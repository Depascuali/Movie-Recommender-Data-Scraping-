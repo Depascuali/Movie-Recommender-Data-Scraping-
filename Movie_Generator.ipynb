{
 "cells": [
  {
   "cell_type": "code",
   "execution_count": 1,
   "metadata": {},
   "outputs": [],
   "source": [
    "import requests\n",
    "import random\n",
    "from bs4 import BeautifulSoup"
   ]
  },
  {
   "cell_type": "code",
   "execution_count": 2,
   "metadata": {},
   "outputs": [
    {
     "name": "stdout",
     "output_type": "stream",
     "text": [
      "Su película es: \u001b[1;91mRRR\u001b[0m, puedes ver mas aqui: https://www.rottentomatoes.com/m/RRR\n"
     ]
    }
   ],
   "source": [
    "Plataforma = input(\"Plataforma (e.g., netflix, amazon_prime, disney_plus, max_us, apple_tv_us): \")\n",
    "Genero = input(\"Genero (e.g., action, adventure, animation, anime, biography, comedy, crime, documentary, drama, fantasy, history, horror, musical, sci_fi, sports, war): \")\n",
    "url = f'https://www.rottentomatoes.com/browse/movies_at_home/affiliates:{Plataforma}~genres:{Genero}~sort:popular'\n",
    "\n",
    "source_action = requests.get(url)\n",
    "soup_action = BeautifulSoup(source_action.text,\"html.parser\")\n",
    "\n",
    "movies = soup_action.find_all('span',{\"class\":'p--small'})\n",
    "url_base = \"https://www.rottentomatoes.com/m/\"\n",
    "\n",
    "best_movies = []\n",
    "\n",
    "for movie in movies:\n",
    "\n",
    "    best_movies.append(movie.text)\n",
    "\n",
    "\n",
    "movies_excluded = best_movies[4:]\n",
    "\n",
    "pelicula_aleatoria = random.choice(movies_excluded).strip()\n",
    "peli_url = pelicula_aleatoria.replace(\" \",\"_\")\n",
    "\n",
    "\n",
    "url_final = url_base + peli_url\n",
    "\n",
    "\n",
    "#print(\"Su película es:\",pelicula_aleatoria)\n",
    "print(f\"Su película es: \\033[1;91m{pelicula_aleatoria}\\033[0m, puedes ver mas aqui:\",url_final)\n"
   ]
  }
 ],
 "metadata": {
  "kernelspec": {
   "display_name": "Python 3",
   "language": "python",
   "name": "python3"
  },
  "language_info": {
   "codemirror_mode": {
    "name": "ipython",
    "version": 3
   },
   "file_extension": ".py",
   "mimetype": "text/x-python",
   "name": "python",
   "nbconvert_exporter": "python",
   "pygments_lexer": "ipython3",
   "version": "3.12.0"
  }
 },
 "nbformat": 4,
 "nbformat_minor": 2
}
